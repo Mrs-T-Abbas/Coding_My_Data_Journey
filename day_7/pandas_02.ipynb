{
 "cells": [
  {
   "cell_type": "markdown",
   "id": "bf9001a6",
   "metadata": {},
   "source": [
    "# How to import dataset in python using Pandas Library?\n",
    "\n",
    "Written by: Asmaa Masood\n",
    "\n",
    "Date:08-05-2025\n",
    "\n",
    "Email: mrs.tasawar000@gmail.com"
   ]
  },
  {
   "cell_type": "markdown",
   "metadata": {},
   "source": []
  },
  {
   "cell_type": "code",
   "execution_count": 1,
   "id": "851fb2b1",
   "metadata": {},
   "outputs": [],
   "source": [
    "import pandas as pd"
   ]
  },
  {
   "cell_type": "code",
   "execution_count": null,
   "id": "6eab3cf7",
   "metadata": {},
   "outputs": [
    {
     "name": "stdout",
     "output_type": "stream",
     "text": [
      "   height  weight favourite_dish\n",
      "0     5.8     101  Chicken Pulao\n",
      "1     6.2      92        Biryani\n",
      "2     5.9      62  Karahi Ghosht\n",
      "3     5.9      95  Chicken Pulao\n",
      "4     5.9      55  Chicken Pulao\n"
     ]
    }
   ],
   "source": [
    "import pandas as pd\n",
    "\n",
    "file_path = '../day_6/pandas_01_day6.xlsx'   #To import the file from different directory\n",
    "df = pd.read_excel(file_path)\n",
    "\n",
    "print(df.head())"
   ]
  },
  {
   "cell_type": "markdown",
   "id": "afa42a4e",
   "metadata": {},
   "source": [
    "## View DataFrames in Python Using Pandas"
   ]
  },
  {
   "cell_type": "code",
   "execution_count": 7,
   "id": "484e2147",
   "metadata": {},
   "outputs": [
    {
     "data": {
      "text/plain": [
       "RangeIndex(start=0, stop=87, step=1)"
      ]
     },
     "execution_count": 7,
     "metadata": {},
     "output_type": "execute_result"
    }
   ],
   "source": [
    "df.index"
   ]
  },
  {
   "cell_type": "code",
   "execution_count": 8,
   "id": "42d619b2",
   "metadata": {},
   "outputs": [
    {
     "data": {
      "text/plain": [
       "Index(['height', 'weight', 'favourite_dish'], dtype='object')"
      ]
     },
     "execution_count": 8,
     "metadata": {},
     "output_type": "execute_result"
    }
   ],
   "source": [
    "df.columns"
   ]
  },
  {
   "cell_type": "code",
   "execution_count": 10,
   "id": "430304a7",
   "metadata": {},
   "outputs": [
    {
     "data": {
      "text/html": [
       "<div>\n",
       "<style scoped>\n",
       "    .dataframe tbody tr th:only-of-type {\n",
       "        vertical-align: middle;\n",
       "    }\n",
       "\n",
       "    .dataframe tbody tr th {\n",
       "        vertical-align: top;\n",
       "    }\n",
       "\n",
       "    .dataframe thead th {\n",
       "        text-align: right;\n",
       "    }\n",
       "</style>\n",
       "<table border=\"1\" class=\"dataframe\">\n",
       "  <thead>\n",
       "    <tr style=\"text-align: right;\">\n",
       "      <th></th>\n",
       "      <th>height</th>\n",
       "      <th>weight</th>\n",
       "    </tr>\n",
       "  </thead>\n",
       "  <tbody>\n",
       "    <tr>\n",
       "      <th>count</th>\n",
       "      <td>87.000000</td>\n",
       "      <td>87.000000</td>\n",
       "    </tr>\n",
       "    <tr>\n",
       "      <th>mean</th>\n",
       "      <td>9.998391</td>\n",
       "      <td>70.459770</td>\n",
       "    </tr>\n",
       "    <tr>\n",
       "      <th>std</th>\n",
       "      <td>25.733340</td>\n",
       "      <td>16.753899</td>\n",
       "    </tr>\n",
       "    <tr>\n",
       "      <th>min</th>\n",
       "      <td>5.000000</td>\n",
       "      <td>25.000000</td>\n",
       "    </tr>\n",
       "    <tr>\n",
       "      <th>25%</th>\n",
       "      <td>5.300000</td>\n",
       "      <td>60.000000</td>\n",
       "    </tr>\n",
       "    <tr>\n",
       "      <th>50%</th>\n",
       "      <td>5.600000</td>\n",
       "      <td>70.000000</td>\n",
       "    </tr>\n",
       "    <tr>\n",
       "      <th>75%</th>\n",
       "      <td>5.850000</td>\n",
       "      <td>80.000000</td>\n",
       "    </tr>\n",
       "    <tr>\n",
       "      <th>max</th>\n",
       "      <td>178.000000</td>\n",
       "      <td>125.000000</td>\n",
       "    </tr>\n",
       "  </tbody>\n",
       "</table>\n",
       "</div>"
      ],
      "text/plain": [
       "           height      weight\n",
       "count   87.000000   87.000000\n",
       "mean     9.998391   70.459770\n",
       "std     25.733340   16.753899\n",
       "min      5.000000   25.000000\n",
       "25%      5.300000   60.000000\n",
       "50%      5.600000   70.000000\n",
       "75%      5.850000   80.000000\n",
       "max    178.000000  125.000000"
      ]
     },
     "execution_count": 10,
     "metadata": {},
     "output_type": "execute_result"
    }
   ],
   "source": [
    "df.describe()"
   ]
  },
  {
   "cell_type": "code",
   "execution_count": null,
   "id": "79ac336e",
   "metadata": {},
   "outputs": [
    {
     "data": {
      "text/html": [
       "<div>\n",
       "<style scoped>\n",
       "    .dataframe tbody tr th:only-of-type {\n",
       "        vertical-align: middle;\n",
       "    }\n",
       "\n",
       "    .dataframe tbody tr th {\n",
       "        vertical-align: top;\n",
       "    }\n",
       "\n",
       "    .dataframe thead th {\n",
       "        text-align: right;\n",
       "    }\n",
       "</style>\n",
       "<table border=\"1\" class=\"dataframe\">\n",
       "  <thead>\n",
       "    <tr style=\"text-align: right;\">\n",
       "      <th></th>\n",
       "      <th>0</th>\n",
       "      <th>1</th>\n",
       "      <th>2</th>\n",
       "      <th>3</th>\n",
       "      <th>4</th>\n",
       "      <th>5</th>\n",
       "      <th>6</th>\n",
       "      <th>7</th>\n",
       "      <th>8</th>\n",
       "      <th>9</th>\n",
       "      <th>...</th>\n",
       "      <th>77</th>\n",
       "      <th>78</th>\n",
       "      <th>79</th>\n",
       "      <th>80</th>\n",
       "      <th>81</th>\n",
       "      <th>82</th>\n",
       "      <th>83</th>\n",
       "      <th>84</th>\n",
       "      <th>85</th>\n",
       "      <th>86</th>\n",
       "    </tr>\n",
       "  </thead>\n",
       "  <tbody>\n",
       "    <tr>\n",
       "      <th>height</th>\n",
       "      <td>5.8</td>\n",
       "      <td>6.2</td>\n",
       "      <td>5.9</td>\n",
       "      <td>5.9</td>\n",
       "      <td>5.9</td>\n",
       "      <td>5.3</td>\n",
       "      <td>5.6</td>\n",
       "      <td>5.9</td>\n",
       "      <td>5.1</td>\n",
       "      <td>5.4</td>\n",
       "      <td>...</td>\n",
       "      <td>5.5</td>\n",
       "      <td>5.11</td>\n",
       "      <td>5.3</td>\n",
       "      <td>5.4</td>\n",
       "      <td>5.5</td>\n",
       "      <td>5.4</td>\n",
       "      <td>5.9</td>\n",
       "      <td>5.4</td>\n",
       "      <td>6.2</td>\n",
       "      <td>5.1</td>\n",
       "    </tr>\n",
       "    <tr>\n",
       "      <th>weight</th>\n",
       "      <td>101</td>\n",
       "      <td>92</td>\n",
       "      <td>62</td>\n",
       "      <td>95</td>\n",
       "      <td>55</td>\n",
       "      <td>59</td>\n",
       "      <td>50</td>\n",
       "      <td>76</td>\n",
       "      <td>78</td>\n",
       "      <td>68</td>\n",
       "      <td>...</td>\n",
       "      <td>85</td>\n",
       "      <td>72</td>\n",
       "      <td>62</td>\n",
       "      <td>55</td>\n",
       "      <td>52</td>\n",
       "      <td>55</td>\n",
       "      <td>75</td>\n",
       "      <td>61</td>\n",
       "      <td>68</td>\n",
       "      <td>96</td>\n",
       "    </tr>\n",
       "    <tr>\n",
       "      <th>favourite_dish</th>\n",
       "      <td>Chicken Pulao</td>\n",
       "      <td>Biryani</td>\n",
       "      <td>Karahi Ghosht</td>\n",
       "      <td>Chicken Pulao</td>\n",
       "      <td>Chicken Pulao</td>\n",
       "      <td>Biryani</td>\n",
       "      <td>Pasta</td>\n",
       "      <td>Biryani</td>\n",
       "      <td>Biryani</td>\n",
       "      <td>Biryani</td>\n",
       "      <td>...</td>\n",
       "      <td>Biryani</td>\n",
       "      <td>Karahi Ghosht</td>\n",
       "      <td>Biryani</td>\n",
       "      <td>Pasta</td>\n",
       "      <td>Karahi Ghosht</td>\n",
       "      <td>Pasta</td>\n",
       "      <td>Karahi Ghosht</td>\n",
       "      <td>Biryani</td>\n",
       "      <td>Chicken Pulao</td>\n",
       "      <td>Biryani</td>\n",
       "    </tr>\n",
       "  </tbody>\n",
       "</table>\n",
       "<p>3 rows × 87 columns</p>\n",
       "</div>"
      ],
      "text/plain": [
       "                           0        1              2              3   \\\n",
       "height                    5.8      6.2            5.9            5.9   \n",
       "weight                    101       92             62             95   \n",
       "favourite_dish  Chicken Pulao  Biryani  Karahi Ghosht  Chicken Pulao   \n",
       "\n",
       "                           4        5      6        7        8        9   ...  \\\n",
       "height                    5.9      5.3    5.6      5.9      5.1      5.4  ...   \n",
       "weight                     55       59     50       76       78       68  ...   \n",
       "favourite_dish  Chicken Pulao  Biryani  Pasta  Biryani  Biryani  Biryani  ...   \n",
       "\n",
       "                     77             78       79     80             81     82  \\\n",
       "height              5.5           5.11      5.3    5.4            5.5    5.4   \n",
       "weight               85             72       62     55             52     55   \n",
       "favourite_dish  Biryani  Karahi Ghosht  Biryani  Pasta  Karahi Ghosht  Pasta   \n",
       "\n",
       "                           83       84             85       86  \n",
       "height                    5.9      5.4            6.2      5.1  \n",
       "weight                     75       61             68       96  \n",
       "favourite_dish  Karahi Ghosht  Biryani  Chicken Pulao  Biryani  \n",
       "\n",
       "[3 rows x 87 columns]"
      ]
     },
     "execution_count": 11,
     "metadata": {},
     "output_type": "execute_result"
    }
   ],
   "source": [
    "df.T  #to convert rows to columns(Transpose)"
   ]
  },
  {
   "cell_type": "code",
   "execution_count": null,
   "id": "f1ad9777",
   "metadata": {},
   "outputs": [
    {
     "data": {
      "text/plain": [
       "<bound method DataFrame.sort_index of     height  weight favourite_dish\n",
       "0      5.8     101  Chicken Pulao\n",
       "1      6.2      92        Biryani\n",
       "2      5.9      62  Karahi Ghosht\n",
       "3      5.9      95  Chicken Pulao\n",
       "4      5.9      55  Chicken Pulao\n",
       "..     ...     ...            ...\n",
       "82     5.4      55          Pasta\n",
       "83     5.9      75  Karahi Ghosht\n",
       "84     5.4      61        Biryani\n",
       "85     6.2      68  Chicken Pulao\n",
       "86     5.1      96        Biryani\n",
       "\n",
       "[87 rows x 3 columns]>"
      ]
     },
     "execution_count": 12,
     "metadata": {},
     "output_type": "execute_result"
    }
   ],
   "source": [
    "df.sort_index"
   ]
  },
  {
   "cell_type": "code",
   "execution_count": 13,
   "id": "7093e494",
   "metadata": {},
   "outputs": [
    {
     "data": {
      "text/html": [
       "<div>\n",
       "<style scoped>\n",
       "    .dataframe tbody tr th:only-of-type {\n",
       "        vertical-align: middle;\n",
       "    }\n",
       "\n",
       "    .dataframe tbody tr th {\n",
       "        vertical-align: top;\n",
       "    }\n",
       "\n",
       "    .dataframe thead th {\n",
       "        text-align: right;\n",
       "    }\n",
       "</style>\n",
       "<table border=\"1\" class=\"dataframe\">\n",
       "  <thead>\n",
       "    <tr style=\"text-align: right;\">\n",
       "      <th></th>\n",
       "      <th>height</th>\n",
       "      <th>weight</th>\n",
       "      <th>favourite_dish</th>\n",
       "    </tr>\n",
       "  </thead>\n",
       "  <tbody>\n",
       "    <tr>\n",
       "      <th>86</th>\n",
       "      <td>5.1</td>\n",
       "      <td>96</td>\n",
       "      <td>Biryani</td>\n",
       "    </tr>\n",
       "    <tr>\n",
       "      <th>85</th>\n",
       "      <td>6.2</td>\n",
       "      <td>68</td>\n",
       "      <td>Chicken Pulao</td>\n",
       "    </tr>\n",
       "    <tr>\n",
       "      <th>84</th>\n",
       "      <td>5.4</td>\n",
       "      <td>61</td>\n",
       "      <td>Biryani</td>\n",
       "    </tr>\n",
       "    <tr>\n",
       "      <th>83</th>\n",
       "      <td>5.9</td>\n",
       "      <td>75</td>\n",
       "      <td>Karahi Ghosht</td>\n",
       "    </tr>\n",
       "    <tr>\n",
       "      <th>82</th>\n",
       "      <td>5.4</td>\n",
       "      <td>55</td>\n",
       "      <td>Pasta</td>\n",
       "    </tr>\n",
       "    <tr>\n",
       "      <th>...</th>\n",
       "      <td>...</td>\n",
       "      <td>...</td>\n",
       "      <td>...</td>\n",
       "    </tr>\n",
       "    <tr>\n",
       "      <th>4</th>\n",
       "      <td>5.9</td>\n",
       "      <td>55</td>\n",
       "      <td>Chicken Pulao</td>\n",
       "    </tr>\n",
       "    <tr>\n",
       "      <th>3</th>\n",
       "      <td>5.9</td>\n",
       "      <td>95</td>\n",
       "      <td>Chicken Pulao</td>\n",
       "    </tr>\n",
       "    <tr>\n",
       "      <th>2</th>\n",
       "      <td>5.9</td>\n",
       "      <td>62</td>\n",
       "      <td>Karahi Ghosht</td>\n",
       "    </tr>\n",
       "    <tr>\n",
       "      <th>1</th>\n",
       "      <td>6.2</td>\n",
       "      <td>92</td>\n",
       "      <td>Biryani</td>\n",
       "    </tr>\n",
       "    <tr>\n",
       "      <th>0</th>\n",
       "      <td>5.8</td>\n",
       "      <td>101</td>\n",
       "      <td>Chicken Pulao</td>\n",
       "    </tr>\n",
       "  </tbody>\n",
       "</table>\n",
       "<p>87 rows × 3 columns</p>\n",
       "</div>"
      ],
      "text/plain": [
       "    height  weight favourite_dish\n",
       "86     5.1      96        Biryani\n",
       "85     6.2      68  Chicken Pulao\n",
       "84     5.4      61        Biryani\n",
       "83     5.9      75  Karahi Ghosht\n",
       "82     5.4      55          Pasta\n",
       "..     ...     ...            ...\n",
       "4      5.9      55  Chicken Pulao\n",
       "3      5.9      95  Chicken Pulao\n",
       "2      5.9      62  Karahi Ghosht\n",
       "1      6.2      92        Biryani\n",
       "0      5.8     101  Chicken Pulao\n",
       "\n",
       "[87 rows x 3 columns]"
      ]
     },
     "execution_count": 13,
     "metadata": {},
     "output_type": "execute_result"
    }
   ],
   "source": [
    "df.sort_index(ascending=False)"
   ]
  },
  {
   "cell_type": "code",
   "execution_count": 1,
   "id": "48b88290",
   "metadata": {},
   "outputs": [
    {
     "name": "stdout",
     "output_type": "stream",
     "text": [
      "Initial data types:\n",
      "height            float64\n",
      "weight              int64\n",
      "favourite_dish     object\n",
      "dtype: object\n"
     ]
    }
   ],
   "source": [
    "import pandas as pd\n",
    "\n",
    "file_path = '../day_6/pandas_01_day6.xlsx'   #To import the file from different directory\n",
    "df = pd.read_excel(file_path)\n",
    "print(\"Initial data types:\")\n",
    "print(df.dtypes)"
   ]
  }
 ],
 "metadata": {
  "kernelspec": {
   "display_name": "Python 3",
   "language": "python",
   "name": "python3"
  },
  "language_info": {
   "codemirror_mode": {
    "name": "ipython",
    "version": 3
   },
   "file_extension": ".py",
   "mimetype": "text/x-python",
   "name": "python",
   "nbconvert_exporter": "python",
   "pygments_lexer": "ipython3",
   "version": "3.13.3"
  }
 },
 "nbformat": 4,
 "nbformat_minor": 5
}
